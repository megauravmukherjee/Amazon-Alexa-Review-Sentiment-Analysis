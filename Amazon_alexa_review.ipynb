{
 "cells": [
  {
   "cell_type": "code",
   "execution_count": 47,
   "id": "06d40abb-d4e7-457e-9cf6-273966531ab0",
   "metadata": {
    "tags": []
   },
   "outputs": [],
   "source": [
    "\n",
    "!pip install --quiet google-cloud-aiplatform wordcloud seaborn nltk scikit-learn imbalanced-learn \n",
    "\n",
    "\n"
   ]
  },
  {
   "cell_type": "code",
   "execution_count": 69,
   "id": "b0b6edf2-fcc8-45c5-a94e-8e61f5cb27a8",
   "metadata": {
    "tags": []
   },
   "outputs": [],
   "source": [
    "\n",
    "import numpy as np\n",
    "import pandas as pd\n",
    "import seaborn as sns\n",
    "import matplotlib.pyplot as plt\n",
    "import warnings\n",
    "\n",
    "import re\n",
    "import nltk\n",
    "from wordcloud import WordCloud\n",
    "from nltk.corpus import stopwords\n",
    "from nltk.stem.porter import PorterStemmer\n",
    "from sklearn.metrics import confusion_matrix, classification_report, precision_recall_fscore_support\n",
    "from sklearn.preprocessing import MinMaxScaler\n",
    "from sklearn.model_selection import GridSearchCV, train_test_split\n",
    "from sklearn.ensemble import RandomForestClassifier\n",
    "from sklearn.feature_extraction.text import CountVectorizer\n",
    "from imblearn.over_sampling import SMOTE # Ensure this import is present\n",
    "from imblearn.pipeline import Pipeline # New import for pipeline\n",
    "\n",
    "warnings.filterwarnings('ignore')\n",
    "sns.set_style('darkgrid')\n",
    "plt.rcParams['figure.figsize'] = (10, 6)\n",
    "\n"
   ]
  },
  {
   "cell_type": "code",
   "execution_count": 70,
   "id": "256f9991-d5c3-41bc-94ed-d50c7e9e8135",
   "metadata": {
    "tags": []
   },
   "outputs": [],
   "source": [
    "# =========================\n",
    "# 2) Authenticate & init Vertex AI\n",
    "# =========================\n",
    "\n",
    "\n",
    "PROJECT_ID = \"our-pursuit-426205-c0\"   # 👈 replace with your GCP project\n",
    "LOCATION = \"us-central1\"             # or another supported region\n",
    "\n",
    "import vertexai\n",
    "vertexai.init(project=PROJECT_ID, location=LOCATION)\n",
    "\n",
    "from vertexai.preview.generative_models import GenerativeModel\n",
    "\n",
    "# Load Gemini 1.5 Flash (fast, free quota)\n",
    "gemini_model = GenerativeModel(\"gemini-2.5-flash-lite\")\n",
    "\n"
   ]
  },
  {
   "cell_type": "code",
   "execution_count": 71,
   "id": "0f81e02d-17f7-44f5-919e-16ebcec9977a",
   "metadata": {
    "tags": []
   },
   "outputs": [
    {
     "name": "stdout",
     "output_type": "stream",
     "text": [
      "Shape: (3150, 5)\n"
     ]
    },
    {
     "data": {
      "text/html": [
       "<div>\n",
       "<style scoped>\n",
       "    .dataframe tbody tr th:only-of-type {\n",
       "        vertical-align: middle;\n",
       "    }\n",
       "\n",
       "    .dataframe tbody tr th {\n",
       "        vertical-align: top;\n",
       "    }\n",
       "\n",
       "    .dataframe thead th {\n",
       "        text-align: right;\n",
       "    }\n",
       "</style>\n",
       "<table border=\"1\" class=\"dataframe\">\n",
       "  <thead>\n",
       "    <tr style=\"text-align: right;\">\n",
       "      <th></th>\n",
       "      <th>rating</th>\n",
       "      <th>date</th>\n",
       "      <th>variation</th>\n",
       "      <th>verified_reviews</th>\n",
       "      <th>feedback</th>\n",
       "    </tr>\n",
       "  </thead>\n",
       "  <tbody>\n",
       "    <tr>\n",
       "      <th>0</th>\n",
       "      <td>5</td>\n",
       "      <td>31-Jul-18</td>\n",
       "      <td>Charcoal Fabric</td>\n",
       "      <td>Love my Echo!</td>\n",
       "      <td>1</td>\n",
       "    </tr>\n",
       "    <tr>\n",
       "      <th>1</th>\n",
       "      <td>5</td>\n",
       "      <td>31-Jul-18</td>\n",
       "      <td>Charcoal Fabric</td>\n",
       "      <td>Loved it!</td>\n",
       "      <td>1</td>\n",
       "    </tr>\n",
       "    <tr>\n",
       "      <th>2</th>\n",
       "      <td>4</td>\n",
       "      <td>31-Jul-18</td>\n",
       "      <td>Walnut Finish</td>\n",
       "      <td>Sometimes while playing a game, you can answer...</td>\n",
       "      <td>1</td>\n",
       "    </tr>\n",
       "    <tr>\n",
       "      <th>3</th>\n",
       "      <td>5</td>\n",
       "      <td>31-Jul-18</td>\n",
       "      <td>Charcoal Fabric</td>\n",
       "      <td>I have had a lot of fun with this thing. My 4 ...</td>\n",
       "      <td>1</td>\n",
       "    </tr>\n",
       "    <tr>\n",
       "      <th>4</th>\n",
       "      <td>5</td>\n",
       "      <td>31-Jul-18</td>\n",
       "      <td>Charcoal Fabric</td>\n",
       "      <td>Music</td>\n",
       "      <td>1</td>\n",
       "    </tr>\n",
       "  </tbody>\n",
       "</table>\n",
       "</div>"
      ],
      "text/plain": [
       "   rating       date         variation  \\\n",
       "0       5  31-Jul-18  Charcoal Fabric    \n",
       "1       5  31-Jul-18  Charcoal Fabric    \n",
       "2       4  31-Jul-18    Walnut Finish    \n",
       "3       5  31-Jul-18  Charcoal Fabric    \n",
       "4       5  31-Jul-18  Charcoal Fabric    \n",
       "\n",
       "                                    verified_reviews  feedback  \n",
       "0                                      Love my Echo!         1  \n",
       "1                                          Loved it!         1  \n",
       "2  Sometimes while playing a game, you can answer...         1  \n",
       "3  I have had a lot of fun with this thing. My 4 ...         1  \n",
       "4                                              Music         1  "
      ]
     },
     "execution_count": 71,
     "metadata": {},
     "output_type": "execute_result"
    }
   ],
   "source": [
    "# =========================\n",
    "# 3) Load dataset\n",
    "# =========================\n",
    "\n",
    "\n",
    "df = pd.read_csv(\"amazon_alexa.tsv\", delimiter=\"\\t\")\n",
    "print(\"Shape:\", df.shape)\n",
    "df.head()\n",
    "\n"
   ]
  },
  {
   "cell_type": "code",
   "execution_count": 72,
   "id": "b86e9b9c-eac3-4748-8c54-a1d2622759e8",
   "metadata": {
    "tags": []
   },
   "outputs": [
    {
     "name": "stdout",
     "output_type": "stream",
     "text": [
      "Shape: (3150, 5)\n",
      "\n",
      "Nulls:\n",
      " rating              0\n",
      "date                0\n",
      "variation           0\n",
      "verified_reviews    1\n",
      "feedback            0\n",
      "dtype: int64\n"
     ]
    },
    {
     "data": {
      "text/html": [
       "<div>\n",
       "<style scoped>\n",
       "    .dataframe tbody tr th:only-of-type {\n",
       "        vertical-align: middle;\n",
       "    }\n",
       "\n",
       "    .dataframe tbody tr th {\n",
       "        vertical-align: top;\n",
       "    }\n",
       "\n",
       "    .dataframe thead th {\n",
       "        text-align: right;\n",
       "    }\n",
       "</style>\n",
       "<table border=\"1\" class=\"dataframe\">\n",
       "  <thead>\n",
       "    <tr style=\"text-align: right;\">\n",
       "      <th></th>\n",
       "      <th>rating</th>\n",
       "      <th>date</th>\n",
       "      <th>variation</th>\n",
       "      <th>verified_reviews</th>\n",
       "      <th>feedback</th>\n",
       "    </tr>\n",
       "  </thead>\n",
       "  <tbody>\n",
       "    <tr>\n",
       "      <th>count</th>\n",
       "      <td>3150.000000</td>\n",
       "      <td>3150</td>\n",
       "      <td>3150</td>\n",
       "      <td>3149</td>\n",
       "      <td>3150.000000</td>\n",
       "    </tr>\n",
       "    <tr>\n",
       "      <th>unique</th>\n",
       "      <td>NaN</td>\n",
       "      <td>77</td>\n",
       "      <td>16</td>\n",
       "      <td>2300</td>\n",
       "      <td>NaN</td>\n",
       "    </tr>\n",
       "    <tr>\n",
       "      <th>top</th>\n",
       "      <td>NaN</td>\n",
       "      <td>30-Jul-18</td>\n",
       "      <td>Black  Dot</td>\n",
       "      <td></td>\n",
       "      <td>NaN</td>\n",
       "    </tr>\n",
       "    <tr>\n",
       "      <th>freq</th>\n",
       "      <td>NaN</td>\n",
       "      <td>1603</td>\n",
       "      <td>516</td>\n",
       "      <td>79</td>\n",
       "      <td>NaN</td>\n",
       "    </tr>\n",
       "    <tr>\n",
       "      <th>mean</th>\n",
       "      <td>4.463175</td>\n",
       "      <td>NaN</td>\n",
       "      <td>NaN</td>\n",
       "      <td>NaN</td>\n",
       "      <td>0.918413</td>\n",
       "    </tr>\n",
       "    <tr>\n",
       "      <th>std</th>\n",
       "      <td>1.068506</td>\n",
       "      <td>NaN</td>\n",
       "      <td>NaN</td>\n",
       "      <td>NaN</td>\n",
       "      <td>0.273778</td>\n",
       "    </tr>\n",
       "    <tr>\n",
       "      <th>min</th>\n",
       "      <td>1.000000</td>\n",
       "      <td>NaN</td>\n",
       "      <td>NaN</td>\n",
       "      <td>NaN</td>\n",
       "      <td>0.000000</td>\n",
       "    </tr>\n",
       "    <tr>\n",
       "      <th>25%</th>\n",
       "      <td>4.000000</td>\n",
       "      <td>NaN</td>\n",
       "      <td>NaN</td>\n",
       "      <td>NaN</td>\n",
       "      <td>1.000000</td>\n",
       "    </tr>\n",
       "    <tr>\n",
       "      <th>50%</th>\n",
       "      <td>5.000000</td>\n",
       "      <td>NaN</td>\n",
       "      <td>NaN</td>\n",
       "      <td>NaN</td>\n",
       "      <td>1.000000</td>\n",
       "    </tr>\n",
       "    <tr>\n",
       "      <th>75%</th>\n",
       "      <td>5.000000</td>\n",
       "      <td>NaN</td>\n",
       "      <td>NaN</td>\n",
       "      <td>NaN</td>\n",
       "      <td>1.000000</td>\n",
       "    </tr>\n",
       "    <tr>\n",
       "      <th>max</th>\n",
       "      <td>5.000000</td>\n",
       "      <td>NaN</td>\n",
       "      <td>NaN</td>\n",
       "      <td>NaN</td>\n",
       "      <td>1.000000</td>\n",
       "    </tr>\n",
       "  </tbody>\n",
       "</table>\n",
       "</div>"
      ],
      "text/plain": [
       "             rating       date   variation verified_reviews     feedback\n",
       "count   3150.000000       3150        3150             3149  3150.000000\n",
       "unique          NaN         77          16             2300          NaN\n",
       "top             NaN  30-Jul-18  Black  Dot                           NaN\n",
       "freq            NaN       1603         516               79          NaN\n",
       "mean       4.463175        NaN         NaN              NaN     0.918413\n",
       "std        1.068506        NaN         NaN              NaN     0.273778\n",
       "min        1.000000        NaN         NaN              NaN     0.000000\n",
       "25%        4.000000        NaN         NaN              NaN     1.000000\n",
       "50%        5.000000        NaN         NaN              NaN     1.000000\n",
       "75%        5.000000        NaN         NaN              NaN     1.000000\n",
       "max        5.000000        NaN         NaN              NaN     1.000000"
      ]
     },
     "metadata": {},
     "output_type": "display_data"
    },
    {
     "data": {
      "image/png": "[encoded data removed]",
      "text/plain": [
       "<Figure size 1000x400 with 1 Axes>"
      ]
     },
     "metadata": {},
     "output_type": "display_data"
    }
   ],
   "source": [
    "# =========================\n",
    "# 4) Quick EDA\n",
    "# =========================\n",
    "print('Shape:', df.shape)\n",
    "print('\\nNulls:\\n', df.isnull().sum())\n",
    "display(df.describe(include='all'))\n",
    "\n",
    "# add length column and plot distribution\n",
    "df['len'] = df['verified_reviews'].fillna('').map(len) # Fill missing values with empty string\n",
    "plt.figure(figsize=(10,4))\n",
    "sns.histplot(df['len'], bins=50)\n",
    "plt.title('Distribution of review lengths')\n",
    "plt.show()\n",
    "\n"
   ]
  },
  {
   "cell_type": "code",
   "execution_count": 73,
   "id": "fc37b2f4-b5df-4f13-a50d-464d48bcd70e",
   "metadata": {
    "tags": []
   },
   "outputs": [
    {
     "name": "stderr",
     "output_type": "stream",
     "text": [
      "[nltk_data] Downloading package stopwords to\n",
      "[nltk_data]     /home/jupyter/nltk_data...\n",
      "[nltk_data]   Package stopwords is already up-to-date!\n"
     ]
    },
    {
     "data": {
      "text/plain": [
       "0                                            love echo\n",
       "1                                                 love\n",
       "2    sometim play game answer question correctli al...\n",
       "3    lot fun thing yr old learn dinosaur control li...\n",
       "4                                                music\n",
       "Name: clean_review, dtype: object"
      ]
     },
     "execution_count": 73,
     "metadata": {},
     "output_type": "execute_result"
    }
   ],
   "source": [
    "# =========================\n",
    "# 5) Text preprocessing\n",
    "# =========================\n",
    "ps = PorterStemmer()\n",
    "nltk.download('stopwords')\n",
    "sw = set(stopwords.words('english'))\n",
    "if 'not' in sw:\n",
    "    sw.remove('not')\n",
    "\n",
    "c = []\n",
    "for i in range(len(df)):\n",
    "    review = df['verified_reviews'].iloc[i]\n",
    "    if isinstance(review, str):  # Check if the review is a string\n",
    "        r = re.sub('[^a-zA-Z]', ' ', review)\n",
    "        r = r.lower()\n",
    "        r = r.split()\n",
    "        r = [ps.stem(word) for word in r if word not in sw]\n",
    "        r = ' '.join(r)\n",
    "        c.append(r)\n",
    "    else:\n",
    "        c.append('') # Append an empty string for non-string values\n",
    "\n",
    "df['clean_review'] = c\n",
    "df['clean_review'].head()\n",
    "\n"
   ]
  },
  {
   "cell_type": "code",
   "execution_count": 74,
   "id": "6e53b2a5-9bc7-459f-bde8-db941ed6d573",
   "metadata": {
    "tags": []
   },
   "outputs": [
    {
     "name": "stdout",
     "output_type": "stream",
     "text": [
      "Train shape: (2362, 2500) Test shape: (788, 2500)\n"
     ]
    }
   ],
   "source": [
    "# =========================\n",
    "# 6) Feature extraction & split\n",
    "# =========================\n",
    "count_vector = CountVectorizer(max_features=2500)\n",
    "X = count_vector.fit_transform(df[\"clean_review\"]).toarray()\n",
    "y = df[\"feedback\"].values\n",
    "\n",
    "X_train, X_test, y_train, y_test, text_train, text_test = train_test_split(\n",
    "    X, y, df[\"verified_reviews\"], test_size=0.25, random_state=42\n",
    ")\n",
    "\n",
    "print(\"Train shape:\", X_train.shape, \"Test shape:\", X_test.shape)\n"
   ]
  },
  {
   "cell_type": "code",
   "execution_count": 82,
   "id": "6da25f22-cede-43af-9a8c-16b9b92e59f6",
   "metadata": {
    "tags": []
   },
   "outputs": [],
   "source": [
    "pipeline = Pipeline([\n",
    "    ('scaler', MinMaxScaler()),\n",
    "    ('smote', SMOTE(random_state=42)),\n",
    "    ('classifier', RandomForestClassifier(random_state=42))\n",
    "])\n"
   ]
  },
  {
   "cell_type": "code",
   "execution_count": 83,
   "id": "6d598cbf-ecc1-4014-9818-39bbb9f10903",
   "metadata": {
    "tags": []
   },
   "outputs": [
    {
     "name": "stdout",
     "output_type": "stream",
     "text": [
      "=== Baseline RF ===\n",
      "              precision    recall  f1-score   support\n",
      "\n",
      "           0       0.59      0.51      0.54        73\n",
      "           1       0.95      0.96      0.96       715\n",
      "\n",
      "    accuracy                           0.92       788\n",
      "   macro avg       0.77      0.74      0.75       788\n",
      "weighted avg       0.92      0.92      0.92       788\n",
      "\n"
     ]
    }
   ],
   "source": [
    "pipeline.fit(X_train, y_train)\n",
    "pred_baseline = pipeline.predict(X_test)\n",
    "\n",
    "print(\"=== Baseline RF ===\")\n",
    "print(classification_report(y_test, pred_baseline))"
   ]
  },
  {
   "cell_type": "code",
   "execution_count": 84,
   "id": "f22be6a3-bd9d-41d0-97db-0cabb1912c3e",
   "metadata": {
    "tags": []
   },
   "outputs": [
    {
     "name": "stdout",
     "output_type": "stream",
     "text": [
      "Best params: {'classifier__bootstrap': True, 'classifier__max_depth': 60, 'classifier__min_samples_leaf': 4, 'classifier__min_samples_split': 4, 'classifier__n_estimators': 200}\n",
      "=== Tuned RF ===\n",
      "              precision    recall  f1-score   support\n",
      "\n",
      "           0       0.37      0.36      0.36        73\n",
      "           1       0.93      0.94      0.94       715\n",
      "\n",
      "    accuracy                           0.88       788\n",
      "   macro avg       0.65      0.65      0.65       788\n",
      "weighted avg       0.88      0.88      0.88       788\n",
      "\n"
     ]
    }
   ],
   "source": [
    "param_grid = {\n",
    "    \"classifier__bootstrap\": [True],\n",
    "    \"classifier__max_depth\": [60, 80],\n",
    "    \"classifier__min_samples_split\": [4, 8],\n",
    "    \"classifier__min_samples_leaf\": [2, 4], # Added to param_grid\n",
    "    \"classifier__n_estimators\": [100, 200]\n",
    "}\n",
    "\n",
    "# Optimize for f1_weighted to account for class imbalance\n",
    "grid_cv = GridSearchCV(pipeline, param_grid, cv=3, n_jobs=-1, scoring=\"f1_weighted\")\n",
    "grid_cv.fit(X_train, y_train)\n",
    "\n",
    "print(\"Best params:\", grid_cv.best_params_)\n",
    "rf_cv = grid_cv.best_estimator_\n",
    "pred_tuned = rf_cv.predict(X_test)\n",
    "print(\"=== Tuned RF ===\")\n",
    "print(classification_report(y_test, pred_tuned))\n"
   ]
  },
  {
   "cell_type": "code",
   "execution_count": 78,
   "id": "705f8f39-888f-4cc0-af4b-007ab41a35e4",
   "metadata": {
    "tags": []
   },
   "outputs": [],
   "source": [
    "def llm_classify_vertex(review):\n",
    "    \"\"\"\n",
    "    Classify sentiment using Vertex AI Gemini.\n",
    "    Returns: 1 -> positive, 0 -> negative\n",
    "    \"\"\"\n",
    "    prompt = f\"\"\"You are a content moderation assistant.\n",
    "Classify the following user review as either NEGATIVE or POSITIVE sentiment.\n",
    "Return only \"NEGATIVE\" or \"POSITIVE\".\n",
    "\n",
    "Review: \"{review}\"\n",
    "\"\"\"\n",
    "    response = gemini_model.generate_content(prompt)\n",
    "    out = response.candidates[0].content.parts[0].text.strip().upper()\n",
    "    return 1 if \"POSITIVE\" in out else 0\n",
    "\n",
    "# Simple mock fallback if Gemini fails\n",
    "def llm_classify_mock(message):\n",
    "    NEG_WORDS = [\"hate\",\"terrible\",\"awful\",\"bad\",\"worst\",\"disappointed\",\"broken\",\"useless\",\"poor\"]\n",
    "    msg = message.lower()\n",
    "    return 0 if any(w in msg for w in NEG_WORDS) else 1\n",
    "\n",
    "def llm_classify(message):\n",
    "    try:\n",
    "        return llm_classify_vertex(message)\n",
    "    except Exception as e:\n",
    "        print(\"Gemini failed, using mock:\", e)\n",
    "        return llm_classify_mock(message)"
   ]
  },
  {
   "cell_type": "code",
   "execution_count": 86,
   "id": "2b95e076-41ca-4140-ad68-885a6bd0eef6",
   "metadata": {
    "tags": []
   },
   "outputs": [],
   "source": [
    "def hybrid_predict_raw(message, model, vectorizer, threshold=0.70):\n",
    "    \"\"\"\n",
    "    Use RF first, fallback to Gemini if confidence < threshold.\n",
    "    \"\"\"\n",
    "    # The pipeline is now the main model, it handles scaling and classification\n",
    "    X_vec = vectorizer.transform([message]).toarray()\n",
    "    probs = model.predict_proba(X_vec)[0]\n",
    "    pred = model.predict(X_vec)[0]\n",
    "    if max(probs) < threshold:\n",
    "        return llm_classify(message)\n",
    "    return pred"
   ]
  },
  {
   "cell_type": "code",
   "execution_count": 88,
   "id": "09c40c1a-9c09-4c2c-958c-d3e7d73f93c4",
   "metadata": {
    "tags": []
   },
   "outputs": [
    {
     "name": "stdout",
     "output_type": "stream",
     "text": [
      "=== Hybrid RF + Gemini ===\n",
      "              precision    recall  f1-score   support\n",
      "\n",
      "           0       0.54      0.67      0.60        73\n",
      "           1       0.97      0.94      0.95       715\n",
      "\n",
      "    accuracy                           0.92       788\n",
      "   macro avg       0.75      0.81      0.78       788\n",
      "weighted avg       0.93      0.92      0.92       788\n",
      "\n"
     ]
    },
    {
     "data": {
      "image/png": "[encoded data removed]",
      "text/plain": [
       "<Figure size 1000x600 with 2 Axes>"
      ]
     },
     "metadata": {},
     "output_type": "display_data"
    }
   ],
   "source": [
    "model_to_use = rf_cv\n",
    "# Keep the threshold at 0.70 to improve precision\n",
    "threshold = 0.70\n",
    "hybrid_preds = [hybrid_predict_raw(text, model_to_use, count_vector, threshold)\n",
    "                for text in text_test]\n",
    "\n",
    "print(\"=== Hybrid RF + Gemini ===\")\n",
    "print(classification_report(y_test, hybrid_preds))\n",
    "\n",
    "cm = confusion_matrix(y_test, hybrid_preds)\n",
    "sns.heatmap(cm, annot=True, fmt=\"d\", cmap=\"Greens\")\n",
    "plt.title(\"Hybrid Confusion Matrix\")\n",
    "plt.xlabel(\"Predicted\")\n",
    "plt.ylabel(\"Actual\")\n",
    "plt.show()"
   ]
  },
  {
   "cell_type": "code",
   "execution_count": 33,
   "id": "8ee6d92b-ad95-4674-ac8b-7d3dc24c8b67",
   "metadata": {
    "tags": []
   },
   "outputs": [
    {
     "data": {
      "image/png": "[encoded data removed]",
      "text/plain": [
       "<Figure size 1000x600 with 1 Axes>"
      ]
     },
     "metadata": {},
     "output_type": "display_data"
    }
   ],
   "source": [
    "# =========================\n",
    "# 12) Feature importance (RF)\n",
    "# =========================\n",
    "fi = model_to_use.feature_importances_\n",
    "feature_names = count_vector.get_feature_names_out()\n",
    "top_idx = fi.argsort()[::-1][:20]\n",
    "\n",
    "plt.figure(figsize=(10,6))\n",
    "sns.barplot(x=fi[top_idx], y=feature_names[top_idx])\n",
    "plt.title(\"Top feature importances (RandomForest)\")\n",
    "plt.show()\n"
   ]
  },
  {
   "cell_type": "code",
   "execution_count": null,
   "id": "8e949e23-bb9f-4e08-af37-b7fcecf409c0",
   "metadata": {},
   "outputs": [],
   "source": []
  }
 ],
 "metadata": {
  "environment": {
   "kernel": "conda-base-py",
   "name": "workbench-notebooks.m133",
   "type": "gcloud",
   "uri": "us-docker.pkg.dev/deeplearning-platform-release/gcr.io/workbench-notebooks:m133"
  },
  "kernelspec": {
   "display_name": "Python 3 (ipykernel)",
   "language": "python",
   "name": "conda-base-py"
  },
  "language_info": {
   "codemirror_mode": {
    "name": "ipython",
    "version": 3
   },
   "file_extension": ".py",
   "mimetype": "text/x-python",
   "name": "python",
   "nbconvert_exporter": "python",
   "pygments_lexer": "ipython3",
   "version": "3.10.18"
  }
 },
 "nbformat": 4,
 "nbformat_minor": 5
}
